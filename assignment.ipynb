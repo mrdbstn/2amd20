{
 "cells": [
  {
   "cell_type": "markdown",
   "metadata": {},
   "source": [
    "# Deliverable 1\n",
    "### Research Question\n",
    "Based on performance metrics, are some football players overvalued?\n",
    "\n",
    "Hypothesis:\n",
    "- Players with higher goal-scoring rates have higher valuations, and those who are valuations far exceeding the indication given by the correlation are overvalued.\n",
    "\n",
    "Performance metrics available:\n",
    "- Goals scored per game\n",
    "- Assists per game\n",
    "- Minutes played\n",
    "- Matches starting eleven\n",
    "- Number of matches team captain\n",
    "- Clean sheets (for goalkeepers) (!!We can leave goalkeepers out, since their value evaluation metrics do not correspond to those of other player positions)\n",
    "- Age \n",
    "- Position (except goalkeeper since those have no goal and little to no assists)\n",
    "- Foot\n",
    "- Height\n",
    "\n",
    "Required datasets:\n",
    "- players.csv (to combine player-ids to actual names, birthcountry(?), age, position, foot, height, market value, highest market value)\n",
    "- game_lineups.csv (to get whether the player was starting and if he was team captain (maybe redundant))\n",
    "- appearances.csv (for each player appearance we get goals, assists, minutes_played)\n",
    "- clubs.csv (to combine club-id to actual club names) (needed?)"
   ]
  },
  {
   "cell_type": "markdown",
   "metadata": {},
   "source": [
    "# Deliverable 2\n",
    "\n",
    "Import data"
   ]
  },
  {
   "cell_type": "code",
   "execution_count": 1,
   "metadata": {},
   "outputs": [],
   "source": [
    "# Import packages\n",
    "import pandas as pd, os, sys\n",
    "\n",
    "# Load datasets\n",
    "cwd = sys.path[0]\n",
    "players = pd.read_csv(cwd+'/archive/players.csv')\n",
    "lineups = pd.read_csv(cwd+'/archive/game_lineups.csv')\n",
    "appearances = pd.read_csv(cwd+'/archive/appearances.csv')\n",
    "clubs = pd.read_csv(cwd+'/archive/clubs.csv')"
   ]
  },
  {
   "cell_type": "markdown",
   "metadata": {},
   "source": [
    "We can combine \"lineups\" with \"appearances\", since those are match-based, and we will add the number-of-appearances-column to the \"players\" dataset.\n",
    "\n",
    "First we clean and preprocess the separate datasets by doing the following:\n",
    "\n",
    "- Look for contradictions in the datasets \"lineups\" and \"appearances\"\n",
    "\n",
    "- We join datasets on `game_id` and `player_id`"
   ]
  },
  {
   "cell_type": "code",
   "execution_count": 2,
   "metadata": {},
   "outputs": [
    {
     "name": "stdout",
     "output_type": "stream",
     "text": [
      "appearance_id             0\n",
      "game_id                   0\n",
      "player_id                 0\n",
      "player_club_id            0\n",
      "player_current_club_id    0\n",
      "date                      0\n",
      "player_name               6\n",
      "competition_id            0\n",
      "yellow_cards              0\n",
      "red_cards                 0\n",
      "goals                     0\n",
      "assists                   0\n",
      "minutes_played            0\n",
      "dtype: int64\n",
      "game_lineups_id    0\n",
      "date               0\n",
      "game_id            0\n",
      "player_id          0\n",
      "club_id            0\n",
      "player_name        0\n",
      "type               0\n",
      "position           3\n",
      "number             0\n",
      "team_captain       0\n",
      "dtype: int64\n",
      "(2191911, 10) (1578761, 13)\n",
      "<class 'pandas.core.frame.DataFrame'>\n",
      "Int64Index: 1342767 entries, 0 to 1342766\n",
      "Data columns (total 21 columns):\n",
      " #   Column                  Non-Null Count    Dtype \n",
      "---  ------                  --------------    ----- \n",
      " 0   game_lineups_id         1342767 non-null  object\n",
      " 1   date_x                  1342767 non-null  object\n",
      " 2   game_id                 1342767 non-null  int64 \n",
      " 3   player_id               1342767 non-null  int64 \n",
      " 4   club_id                 1342767 non-null  int64 \n",
      " 5   player_name_x           1342767 non-null  object\n",
      " 6   type                    1342767 non-null  object\n",
      " 7   position                1342767 non-null  object\n",
      " 8   number                  1342767 non-null  object\n",
      " 9   team_captain            1342767 non-null  int64 \n",
      " 10  appearance_id           1342767 non-null  object\n",
      " 11  player_club_id          1342767 non-null  int64 \n",
      " 12  player_current_club_id  1342767 non-null  int64 \n",
      " 13  date_y                  1342767 non-null  object\n",
      " 14  player_name_y           1342766 non-null  object\n",
      " 15  competition_id          1342767 non-null  object\n",
      " 16  yellow_cards            1342767 non-null  int64 \n",
      " 17  red_cards               1342767 non-null  int64 \n",
      " 18  goals                   1342767 non-null  int64 \n",
      " 19  assists                 1342767 non-null  int64 \n",
      " 20  minutes_played          1342767 non-null  int64 \n",
      "dtypes: int64(11), object(10)\n",
      "memory usage: 225.4+ MB\n",
      "None\n",
      "<class 'pandas.core.frame.DataFrame'>\n",
      "Int64Index: 1342767 entries, 0 to 1342766\n",
      "Data columns (total 21 columns):\n",
      " #   Column                  Non-Null Count    Dtype \n",
      "---  ------                  --------------    ----- \n",
      " 0   game_lineups_id         1342767 non-null  object\n",
      " 1   date_x                  1342767 non-null  object\n",
      " 2   game_id                 1342767 non-null  int64 \n",
      " 3   player_id               1342767 non-null  int64 \n",
      " 4   club_id                 1342767 non-null  int64 \n",
      " 5   player_name_x           1342767 non-null  object\n",
      " 6   type                    1342767 non-null  object\n",
      " 7   position                1342767 non-null  object\n",
      " 8   number                  1342767 non-null  object\n",
      " 9   team_captain            1342767 non-null  int64 \n",
      " 10  appearance_id           1342767 non-null  object\n",
      " 11  player_club_id          1342767 non-null  int64 \n",
      " 12  player_current_club_id  1342767 non-null  int64 \n",
      " 13  date_y                  1342767 non-null  object\n",
      " 14  player_name_y           1342767 non-null  object\n",
      " 15  competition_id          1342767 non-null  object\n",
      " 16  yellow_cards            1342767 non-null  int64 \n",
      " 17  red_cards               1342767 non-null  int64 \n",
      " 18  goals                   1342767 non-null  int64 \n",
      " 19  assists                 1342767 non-null  int64 \n",
      " 20  minutes_played          1342767 non-null  int64 \n",
      "dtypes: int64(11), object(10)\n",
      "memory usage: 225.4+ MB\n",
      "None\n",
      "Number of rows with non-matching dates: 0\n",
      "Number of rows with non-matching names: 31986\n",
      "Unique contradicting names: player_name_x    640\n",
      "player_name_y    640\n",
      "dtype: int64\n"
     ]
    }
   ],
   "source": [
    "# First, we inspect the dataframe\n",
    "\n",
    "print(appearances.isna().sum())\n",
    "print(lineups.isna().sum())\n",
    "\n",
    "print(lineups.shape, appearances.shape) #(2191911, 10) (1578761, 13)\n",
    "game_stats_na = lineups.merge(appearances, how='inner', on=['player_id', 'game_id'])\n",
    "print(game_stats_na.info())\n",
    "\n",
    "game_stats_na['player_name_y'] = game_stats_na['player_name_y'].fillna(game_stats_na['player_name_x'])\n",
    "game_stats = game_stats_na\n",
    "print(game_stats.info())\n",
    "\n",
    "# Since `date` and `player_name` should also be the same for both datasets we can look for contradictions now we have resolved all null values\n",
    "\n",
    "contradicting_dates_count = (game_stats['date_x'] != game_stats['date_y']).sum()\n",
    "\n",
    "print(f\"Number of rows with non-matching dates: {contradicting_dates_count}\")\n",
    "\n",
    "contradicting_names_count = (game_stats['player_name_x'] != game_stats['player_name_y']).sum()\n",
    "\n",
    "print(f\"Number of rows with non-matching names: {contradicting_names_count}\")\n",
    "\n",
    "\n",
    "# The data contains no contradictions for the dates, however it does contain 31986 contradictions for the names\n",
    "\n",
    "contradicting_names = game_stats[game_stats['player_name_x'] != game_stats['player_name_y']]\n",
    "print(f\"Unique contradicting names: {contradicting_names[['player_name_x', 'player_name_y']].nunique()}\")\n",
    "\n",
    "# We have 640 unique names that are contradicting"
   ]
  },
  {
   "cell_type": "markdown",
   "metadata": {},
   "source": [
    "Solve contradictions by character standardization"
   ]
  },
  {
   "cell_type": "code",
   "execution_count": 3,
   "metadata": {},
   "outputs": [
    {
     "name": "stdout",
     "output_type": "stream",
     "text": [
      "Number of rows with non-matching names: 8118\n",
      "player_name_x    166\n",
      "player_name_y    166\n",
      "dtype: int64\n"
     ]
    }
   ],
   "source": [
    "char_replacement = {\n",
    "    '-': ' ',\n",
    "    'ö': 'o',\n",
    "    'ó': 'o',\n",
    "    'ò': 'o',\n",
    "    'í': 'i',\n",
    "    'é': 'e',\n",
    "    'ä': 'a',\n",
    "    'ü': 'u',\n",
    "    'ß': 'ss',\n",
    "    'å': 'a',\n",
    "    'ø': 'o',\n",
    "    'ñ': 'n',\n",
    "    'ç': 'c',\n",
    "    'œ': 'oe',\n",
    "    'æ': 'ae',\n",
    "    'ė': 'e',\n",
    "    'ż': 'z',\n",
    "    'ł': 'l',\n",
    "    'č': 'c',\n",
    "    'ś': 's',\n",
    "    'ź': 'z',\n",
    "    'ñ': 'n',\n",
    "    'ã': 'a',\n",
    "    'į': 'i',\n",
    "    'š': 's',\n",
    "    'ž': 'z',\n",
    "    'đ': 'd',\n",
    "    'ć': 'c',\n",
    "    'ț': 't',\n",
    "    'ğ': 'g',\n",
    "    'ş': 's',\n",
    "    'î': 'i',\n",
    "    'ă': 'a',\n",
    "    'Ș': 'S',\n",
    "    'Ț': 'T',\n",
    "    'İ': 'I',\n",
    "    'ı': 'i',\n",
    "    'ё': 'e',\n",
    "    'й': 'i',\n",
    "    'ю': 'u',\n",
    "    'я': 'ya',\n",
    "    'ë': 'e',\n",
    "    'ș': 's',\n",
    "    'ţ': 't',\n",
    "    'ï': 'i',\n",
    "\n",
    "}\n",
    "\n",
    "def replace_special_chars(text, replacements):\n",
    "    for special_char, normal_char in replacements.items():\n",
    "        text = text.lower().replace(special_char, normal_char)\n",
    "    return text\n",
    "\n",
    "game_stats['player_name_x'] = game_stats['player_name_x'].apply(replace_special_chars, args=(char_replacement,))\n",
    "game_stats['player_name_y'] = game_stats['player_name_y'].apply(replace_special_chars, args=(char_replacement,))\n",
    "\n",
    "contradicting_names_count = (game_stats['player_name_x'] != game_stats['player_name_y']).sum()\n",
    "contradicting_names = game_stats[game_stats['player_name_x'] != game_stats['player_name_y']]\n",
    "print(f\"Number of rows with non-matching names: {contradicting_names_count}\")\n",
    "print(contradicting_names[['player_name_x', 'player_name_y']].nunique())"
   ]
  },
  {
   "cell_type": "markdown",
   "metadata": {},
   "source": [
    "After cleaning capitals and special characters we still have 166 contradictions left. After inspection we can conclude these contradictions are regarding the inclusion of middle names, no first name or no second name.\n",
    "\n",
    "Since these do not directly affect our results we have chosen to make player_name_x the leading column since it is the most inclusive."
   ]
  },
  {
   "cell_type": "code",
   "execution_count": 4,
   "metadata": {},
   "outputs": [],
   "source": [
    "game_stats_cleaned = game_stats.drop(['player_name_y', 'date_y'], axis=1).rename(columns={'player_name_x':'player_name', 'date_x':'date'})"
   ]
  },
  {
   "cell_type": "markdown",
   "metadata": {},
   "source": [
    "Looking for conflicts such as duplicate entries"
   ]
  },
  {
   "cell_type": "code",
   "execution_count": 5,
   "metadata": {},
   "outputs": [],
   "source": [
    "duplicates = appearances.duplicated(subset=['player_id', 'game_id'], keep=False)\n",
    "duplicate_entries = appearances[duplicates]\n",
    "\n",
    "# We have 0 duplicate entries\n",
    "\n",
    "appearance_counts = game_stats_cleaned.groupby('player_id')['player_id'].count().reset_index(name='count')\n",
    "result_players = pd.merge(players, appearance_counts, on='player_id', how='left')"
   ]
  },
  {
   "cell_type": "markdown",
   "metadata": {},
   "source": [
    "Since we are interested in the market value, we can remove all players for which we do not have an appearance count, because those players are not included in the metrics dataset."
   ]
  },
  {
   "cell_type": "code",
   "execution_count": 6,
   "metadata": {},
   "outputs": [],
   "source": [
    "result_players_clean = result_players.dropna(axis=0, how='any')"
   ]
  },
  {
   "cell_type": "markdown",
   "metadata": {},
   "source": [
    "Saving the preprocessed data"
   ]
  },
  {
   "cell_type": "code",
   "execution_count": 7,
   "metadata": {},
   "outputs": [],
   "source": [
    "os.makedirs(cwd+'/clean', exist_ok=True)\n",
    "game_stats_cleaned.to_csv(cwd+'/clean/game_stats_cleaned.csv')\n",
    "result_players_clean.to_csv(cwd+'/clean/result_players_clean.csv')"
   ]
  }
 ],
 "metadata": {
  "kernelspec": {
   "display_name": "base",
   "language": "python",
   "name": "python3"
  },
  "language_info": {
   "codemirror_mode": {
    "name": "ipython",
    "version": 3
   },
   "file_extension": ".py",
   "mimetype": "text/x-python",
   "name": "python",
   "nbconvert_exporter": "python",
   "pygments_lexer": "ipython3",
   "version": "3.9.13"
  }
 },
 "nbformat": 4,
 "nbformat_minor": 2
}
