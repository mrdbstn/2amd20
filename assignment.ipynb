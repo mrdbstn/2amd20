{
 "cells": [
  {
   "cell_type": "markdown",
   "metadata": {},
   "source": [
    "# Deliverable 1\n",
    "### Research Question\n",
    "Based on performance metrics, are some football players overvalued?\n",
    "\n",
    "Hypothesis:\n",
    "- Players with higher goal-scoring rates have higher valuations, and those who are valuations far exceeding the indication given by the correlation are overvalued.\n",
    "\n",
    "Performance metrics available:\n",
    "- Goals scored per game\n",
    "- Assists per game\n",
    "- Minutes played\n",
    "- Matches starting eleven\n",
    "- Number of matches team captain\n",
    "- Clean sheets (for goalkeepers) (!!We can leave goalkeepers out, since their value evaluation metrics do not correspond to those of other player positions)\n",
    "- Age \n",
    "- Position (except goalkeeper since those have no goal and little to no assists)\n",
    "- Foot\n",
    "- Height\n",
    "\n",
    "Required datasets:\n",
    "- players.csv (to combine player-ids to actual names, birthcountry(?), age, position, foot, height, market value, highest market value)\n",
    "- game_lineups.csv (to get whether the player was starting and if he was team captain (maybe redundant))\n",
    "- appearances.csv (for each player appearance we get goals, assists, minutes_played)\n",
    "- clubs.csv (to combine club-id to actual club names) (needed?)"
   ]
  },
  {
   "cell_type": "markdown",
   "metadata": {},
   "source": [
    "# Deliverable 2\n",
    "\n",
    "Import data"
   ]
  },
  {
   "cell_type": "code",
   "execution_count": 52,
   "metadata": {},
   "outputs": [],
   "source": [
    "# Import packages\n",
    "import pandas as pd, os, sys\n",
    "\n",
    "# Load datasets\n",
    "cwd = '.'\n",
    "players = pd.read_csv(cwd+'/archive/players.csv')\n",
    "lineups = pd.read_csv(cwd+'/archive/game_lineups.csv')\n",
    "appearances = pd.read_csv(cwd+'/archive/appearances.csv')\n",
    "clubs = pd.read_csv(cwd+'/archive/clubs.csv')"
   ]
  },
  {
   "cell_type": "markdown",
   "metadata": {},
   "source": [
    "We can combine \"lineups\" with \"appearances\", since those are match-based, and we will add the number-of-appearances-column to the \"players\" dataset.\n",
    "\n",
    "First we clean and preprocess the separate datasets by doing the following:\n",
    "\n",
    "- Look for contradictions in the datasets \"lineups\" and \"appearances\"\n",
    "\n",
    "- We join datasets on `game_id` and `player_id`"
   ]
  },
  {
   "cell_type": "code",
   "execution_count": 53,
   "metadata": {},
   "outputs": [
    {
     "name": "stdout",
     "output_type": "stream",
     "text": [
      "appearance_id             0\n",
      "game_id                   0\n",
      "player_id                 0\n",
      "player_club_id            0\n",
      "player_current_club_id    0\n",
      "date                      0\n",
      "player_name               6\n",
      "competition_id            0\n",
      "yellow_cards              0\n",
      "red_cards                 0\n",
      "goals                     0\n",
      "assists                   0\n",
      "minutes_played            0\n",
      "dtype: int64\n",
      "game_lineups_id    0\n",
      "date               0\n",
      "game_id            0\n",
      "player_id          0\n",
      "club_id            0\n",
      "player_name        0\n",
      "type               0\n",
      "position           3\n",
      "number             0\n",
      "team_captain       0\n",
      "dtype: int64\n",
      "(2191911, 10) (1578761, 13)\n",
      "<class 'pandas.core.frame.DataFrame'>\n",
      "RangeIndex: 1342767 entries, 0 to 1342766\n",
      "Data columns (total 21 columns):\n",
      " #   Column                  Non-Null Count    Dtype \n",
      "---  ------                  --------------    ----- \n",
      " 0   game_lineups_id         1342767 non-null  object\n",
      " 1   date_x                  1342767 non-null  object\n",
      " 2   game_id                 1342767 non-null  int64 \n",
      " 3   player_id               1342767 non-null  int64 \n",
      " 4   club_id                 1342767 non-null  int64 \n",
      " 5   player_name_x           1342767 non-null  object\n",
      " 6   type                    1342767 non-null  object\n",
      " 7   position                1342767 non-null  object\n",
      " 8   number                  1342767 non-null  object\n",
      " 9   team_captain            1342767 non-null  int64 \n",
      " 10  appearance_id           1342767 non-null  object\n",
      " 11  player_club_id          1342767 non-null  int64 \n",
      " 12  player_current_club_id  1342767 non-null  int64 \n",
      " 13  date_y                  1342767 non-null  object\n",
      " 14  player_name_y           1342766 non-null  object\n",
      " 15  competition_id          1342767 non-null  object\n",
      " 16  yellow_cards            1342767 non-null  int64 \n",
      " 17  red_cards               1342767 non-null  int64 \n",
      " 18  goals                   1342767 non-null  int64 \n",
      " 19  assists                 1342767 non-null  int64 \n",
      " 20  minutes_played          1342767 non-null  int64 \n",
      "dtypes: int64(11), object(10)\n",
      "memory usage: 215.1+ MB\n",
      "None\n",
      "<class 'pandas.core.frame.DataFrame'>\n",
      "RangeIndex: 1342767 entries, 0 to 1342766\n",
      "Data columns (total 21 columns):\n",
      " #   Column                  Non-Null Count    Dtype \n",
      "---  ------                  --------------    ----- \n",
      " 0   game_lineups_id         1342767 non-null  object\n",
      " 1   date_x                  1342767 non-null  object\n",
      " 2   game_id                 1342767 non-null  int64 \n",
      " 3   player_id               1342767 non-null  int64 \n",
      " 4   club_id                 1342767 non-null  int64 \n",
      " 5   player_name_x           1342767 non-null  object\n",
      " 6   type                    1342767 non-null  object\n",
      " 7   position                1342767 non-null  object\n",
      " 8   number                  1342767 non-null  object\n",
      " 9   team_captain            1342767 non-null  int64 \n",
      " 10  appearance_id           1342767 non-null  object\n",
      " 11  player_club_id          1342767 non-null  int64 \n",
      " 12  player_current_club_id  1342767 non-null  int64 \n",
      " 13  date_y                  1342767 non-null  object\n",
      " 14  player_name_y           1342767 non-null  object\n",
      " 15  competition_id          1342767 non-null  object\n",
      " 16  yellow_cards            1342767 non-null  int64 \n",
      " 17  red_cards               1342767 non-null  int64 \n",
      " 18  goals                   1342767 non-null  int64 \n",
      " 19  assists                 1342767 non-null  int64 \n",
      " 20  minutes_played          1342767 non-null  int64 \n",
      "dtypes: int64(11), object(10)\n",
      "memory usage: 215.1+ MB\n",
      "None\n",
      "Number of rows with non-matching dates: 0\n",
      "Number of rows with non-matching names: 31986\n",
      "Unique contradicting names: player_name_x    640\n",
      "player_name_y    640\n",
      "dtype: int64\n"
     ]
    }
   ],
   "source": [
    "# First, we inspect the dataframe\n",
    "\n",
    "print(appearances.isna().sum())\n",
    "print(lineups.isna().sum())\n",
    "\n",
    "print(lineups.shape, appearances.shape) #(2191911, 10) (1578761, 13)\n",
    "game_stats_na = lineups.merge(appearances, how='inner', on=['player_id', 'game_id'])\n",
    "print(game_stats_na.info())\n",
    "\n",
    "game_stats_na['player_name_y'] = game_stats_na['player_name_y'].fillna(game_stats_na['player_name_x'])\n",
    "game_stats = game_stats_na\n",
    "print(game_stats.info())\n",
    "\n",
    "# Since `date` and `player_name` should also be the same for both datasets we can look for contradictions now we have resolved all null values\n",
    "\n",
    "contradicting_dates_count = (game_stats['date_x'] != game_stats['date_y']).sum()\n",
    "\n",
    "print(f\"Number of rows with non-matching dates: {contradicting_dates_count}\")\n",
    "\n",
    "contradicting_names_count = (game_stats['player_name_x'] != game_stats['player_name_y']).sum()\n",
    "\n",
    "print(f\"Number of rows with non-matching names: {contradicting_names_count}\")\n",
    "\n",
    "\n",
    "# The data contains no contradictions for the dates, however it does contain 31986 contradictions for the names\n",
    "\n",
    "contradicting_names = game_stats[game_stats['player_name_x'] != game_stats['player_name_y']]\n",
    "print(f\"Unique contradicting names: {contradicting_names[['player_name_x', 'player_name_y']].nunique()}\")\n",
    "\n",
    "# We have 640 unique names that are contradicting"
   ]
  },
  {
   "cell_type": "markdown",
   "metadata": {},
   "source": [
    "Solve contradictions by character standardization"
   ]
  },
  {
   "cell_type": "code",
   "execution_count": 54,
   "metadata": {},
   "outputs": [],
   "source": [
    "# convert to string\n",
    "players['first_name'] = players['first_name'].astype(str)\n",
    "players['last_name'] = players['last_name'].astype(str)\n",
    "players['name'] = players['name'].astype(str)"
   ]
  },
  {
   "cell_type": "code",
   "execution_count": 55,
   "metadata": {},
   "outputs": [
    {
     "name": "stdout",
     "output_type": "stream",
     "text": [
      "Number of rows with non-matching names: 8118\n",
      "player_name_x    166\n",
      "player_name_y    166\n",
      "dtype: int64\n"
     ]
    }
   ],
   "source": [
    "char_replacement = {\n",
    "    '-': ' ',\n",
    "    'ö': 'o',\n",
    "    'ó': 'o',\n",
    "    'ò': 'o',\n",
    "    'í': 'i',\n",
    "    'é': 'e',\n",
    "    'ä': 'a',\n",
    "    'ü': 'u',\n",
    "    'ß': 'ss',\n",
    "    'å': 'a',\n",
    "    'ø': 'o',\n",
    "    'ñ': 'n',\n",
    "    'ç': 'c',\n",
    "    'œ': 'oe',\n",
    "    'æ': 'ae',\n",
    "    'ė': 'e',\n",
    "    'ż': 'z',\n",
    "    'ł': 'l',\n",
    "    'č': 'c',\n",
    "    'ś': 's',\n",
    "    'ź': 'z',\n",
    "    'ñ': 'n',\n",
    "    'ã': 'a',\n",
    "    'į': 'i',\n",
    "    'š': 's',\n",
    "    'ž': 'z',\n",
    "    'đ': 'd',\n",
    "    'ć': 'c',\n",
    "    'ț': 't',\n",
    "    'ğ': 'g',\n",
    "    'ş': 's',\n",
    "    'î': 'i',\n",
    "    'ă': 'a',\n",
    "    'Ș': 'S',\n",
    "    'Ț': 'T',\n",
    "    'İ': 'I',\n",
    "    'ı': 'i',\n",
    "    'ё': 'e',\n",
    "    'й': 'i',\n",
    "    'ю': 'u',\n",
    "    'я': 'ya',\n",
    "    'ë': 'e',\n",
    "    'ș': 's',\n",
    "    'ţ': 't',\n",
    "    'ï': 'i',\n",
    "\n",
    "}\n",
    "\n",
    "def replace_special_chars(text, replacements):\n",
    "    for special_char, normal_char in replacements.items():\n",
    "        text = text.lower().replace(special_char, normal_char)\n",
    "    return text\n",
    "\n",
    "game_stats['player_name_x'] = game_stats['player_name_x'].apply(replace_special_chars, args=(char_replacement,))\n",
    "game_stats['player_name_y'] = game_stats['player_name_y'].apply(replace_special_chars, args=(char_replacement,))\n",
    "\n",
    "# Replace special characters in the first and last name columns of the players dataframe\n",
    "players['first_name'] = players['first_name'].apply(replace_special_chars, args=(char_replacement,))\n",
    "players['last_name'] = players['last_name'].apply(replace_special_chars, args=(char_replacement,))\n",
    "players['name'] = players['name'].apply(replace_special_chars, args=(char_replacement,))\n",
    "\n",
    "contradicting_names_count = (game_stats['player_name_x'] != game_stats['player_name_y']).sum()\n",
    "contradicting_names = game_stats[game_stats['player_name_x'] != game_stats['player_name_y']]\n",
    "print(f\"Number of rows with non-matching names: {contradicting_names_count}\")\n",
    "print(contradicting_names[['player_name_x', 'player_name_y']].nunique())"
   ]
  },
  {
   "cell_type": "markdown",
   "metadata": {},
   "source": [
    "After cleaning capitals and special characters we still have 166 contradictions left. After inspection we can conclude these contradictions are regarding the inclusion of middle names, no first name or no second name.\n",
    "\n",
    "Since these do not directly affect our results we have chosen to make player_name_x the leading column since it is the most inclusive."
   ]
  },
  {
   "cell_type": "code",
   "execution_count": 56,
   "metadata": {},
   "outputs": [],
   "source": [
    "game_stats_cleaned = game_stats.drop(['player_name_y', 'date_y'], axis=1).rename(columns={'player_name_x':'player_name', 'date_x':'date'})"
   ]
  },
  {
   "cell_type": "code",
   "execution_count": null,
   "metadata": {},
   "outputs": [],
   "source": []
  },
  {
   "cell_type": "markdown",
   "metadata": {},
   "source": [
    "Looking for conflicts such as duplicate entries"
   ]
  },
  {
   "cell_type": "code",
   "execution_count": 57,
   "metadata": {},
   "outputs": [],
   "source": [
    "duplicates = appearances.duplicated(subset=['player_id', 'game_id'], keep=False)\n",
    "duplicate_entries = appearances[duplicates]\n",
    "\n",
    "# We have 0 duplicate entries\n",
    "\n",
    "appearance_counts = game_stats_cleaned.groupby('player_id')['player_id'].count().reset_index(name='number_of_appearances')\n",
    "\n",
    "result_players = pd.merge(players, appearance_counts, on='player_id', how='left')"
   ]
  },
  {
   "cell_type": "markdown",
   "metadata": {},
   "source": [
    "Since we are interested in the market value, we can remove all players for which we do not have an appearance count, because those players are not included in the metrics dataset."
   ]
  },
  {
   "cell_type": "code",
   "execution_count": 58,
   "metadata": {},
   "outputs": [],
   "source": [
    "result_players_clean = result_players.dropna(axis=0, how='any')"
   ]
  },
  {
   "cell_type": "code",
   "execution_count": 59,
   "metadata": {},
   "outputs": [
    {
     "name": "stderr",
     "output_type": "stream",
     "text": [
      "C:\\Users\\moura\\AppData\\Local\\Temp\\ipykernel_2096\\3304332291.py:2: SettingWithCopyWarning: \n",
      "A value is trying to be set on a copy of a slice from a DataFrame.\n",
      "Try using .loc[row_indexer,col_indexer] = value instead\n",
      "\n",
      "See the caveats in the documentation: https://pandas.pydata.org/pandas-docs/stable/user_guide/indexing.html#returning-a-view-versus-a-copy\n",
      "  result_players_clean['number_of_appearances'] = result_players_clean['number_of_appearances'].astype(int)\n"
     ]
    }
   ],
   "source": [
    "# Convert number of appearances to integer\n",
    "result_players_clean['number_of_appearances'] = result_players_clean['number_of_appearances'].astype(int)"
   ]
  },
  {
   "cell_type": "code",
   "execution_count": 60,
   "metadata": {},
   "outputs": [],
   "source": [
    "# Drop unnecessary columns\n",
    "result_players_clean = result_players_clean.drop(['player_code', 'city_of_birth', 'country_of_citizenship', 'agent_name', 'image_url', 'url'], axis=1)\n",
    "game_stats_cleaned = game_stats_cleaned.drop(['number'], axis=1)\n",
    "\n",
    "# Change name of column name to player_name\n",
    "result_players_clean = result_players_clean.rename(columns={'name':'player_name', 'current_club_id':'player_current_club_id'})"
   ]
  },
  {
   "cell_type": "code",
   "execution_count": 61,
   "metadata": {},
   "outputs": [],
   "source": [
    "game_stats_cleaned = game_stats_cleaned.merge(result_players_clean, on='player_id', how='inner')"
   ]
  },
  {
   "cell_type": "markdown",
   "metadata": {},
   "source": []
  },
  {
   "cell_type": "code",
   "execution_count": 64,
   "metadata": {},
   "outputs": [
    {
     "data": {
      "text/plain": [
       "Index(['player_id', 'first_name', 'last_name', 'player_name', 'last_season',\n",
       "       'player_current_club_id', 'country_of_birth', 'date_of_birth',\n",
       "       'sub_position', 'position', 'foot', 'height_in_cm',\n",
       "       'contract_expiration_date', 'current_club_domestic_competition_id',\n",
       "       'current_club_name', 'market_value_in_eur',\n",
       "       'highest_market_value_in_eur', 'number_of_appearances'],\n",
       "      dtype='object')"
      ]
     },
     "execution_count": 64,
     "metadata": {},
     "output_type": "execute_result"
    }
   ],
   "source": [
    "result_players_clean.columns"
   ]
  },
  {
   "cell_type": "markdown",
   "metadata": {},
   "source": [
    "Saving the preprocessed data"
   ]
  },
  {
   "cell_type": "code",
   "execution_count": null,
   "metadata": {},
   "outputs": [],
   "source": [
    "os.makedirs(cwd+'/clean', exist_ok=True)\n",
    "game_stats_cleaned.to_csv(cwd+'/clean/game_stats_cleaned.csv', index=False)\n",
    "result_players_clean.to_csv(cwd+'/clean/result_players_clean.csv', index=False)"
   ]
  },
  {
   "cell_type": "code",
   "execution_count": null,
   "metadata": {},
   "outputs": [],
   "source": [
    "# Load datasets\n",
    "import sys, pandas as pd\n",
    "cwd = '.'\n",
    "game_stats_cleaned = pd.read_csv(cwd+\"/clean/game_stats_cleaned.csv\") # index_col=0\n",
    "result_players_clean = pd.read_csv(cwd+\"/clean/result_players_clean.csv\") # index_col=0"
   ]
  },
  {
   "cell_type": "code",
   "execution_count": 65,
   "metadata": {},
   "outputs": [
    {
     "data": {
      "text/plain": [
       "['player_id',\n",
       " 'player_name_x',\n",
       " 'player_club_id',\n",
       " 'player_current_club_id_x',\n",
       " 'player_name_y',\n",
       " 'player_current_club_id_y']"
      ]
     },
     "execution_count": 65,
     "metadata": {},
     "output_type": "execute_result"
    }
   ],
   "source": [
    "[col for col in game_stats_cleaned.columns if 'player' in col]"
   ]
  },
  {
   "cell_type": "markdown",
   "metadata": {},
   "source": [
    "# Deliverable 3\n",
    "As part of the poster, we need to attempt to deliver the answer to the research question. Therefore a knowledge graph is created here."
   ]
  },
  {
   "cell_type": "code",
   "execution_count": 66,
   "metadata": {},
   "outputs": [
    {
     "data": {
      "text/plain": [
       "<Graph identifier=N66911385dbff48b78e788e9df846bce9 (<class 'rdflib.graph.Graph'>)>"
      ]
     },
     "execution_count": 66,
     "metadata": {},
     "output_type": "execute_result"
    }
   ],
   "source": [
    "from rdflib import Graph, URIRef, Literal, BNode, Namespace, RDF\n",
    "\n",
    "n = Namespace(URIRef(\"http://example.org/\"))\n",
    "kg = Graph()\n",
    "kg.bind(\"ex\", n)\n",
    "\n",
    "# Append player_id to knowledge graphs\n",
    "for player_id in game_stats_cleaned.player_id.unique():\n",
    "    # Create subset df\n",
    "    player_df = game_stats_cleaned[game_stats_cleaned.player_id==player_id]\n",
    "    # Append player_id to knowledge graph\n",
    "    player_node = URIRef(n + str(player_id))\n",
    "    kg.add((player_node, RDF.type, n.player))\n",
    "    # Append player name to player_id\n",
    "    player_name = player_df.player_name_x.iloc[0]\n",
    "    kg.add((player_node, n.player_name, Literal(player_name)))\n",
    "    # Append games to player_id\n",
    "    for game_id in player_df.game_id:\n",
    "        game_node = BNode()\n",
    "        kg.add((game_node, RDF.type, n.game))\n",
    "        kg.add((player_node, n.played_in_game, game_node))\n",
    "        kg.add((game_node, n.id, Literal(game_id)))\n",
    "        # Append attributes to game_id\n",
    "        for attr, value in player_df[player_df.game_id==game_id].squeeze().items():\n",
    "            kg.add((game_node, n[attr], Literal(value)))\n",
    "    # Append attributes from result_players_clean to player_id\n",
    "    for attr, value in result_players_clean[result_players_clean.player_id==player_id].squeeze().items():\n",
    "        kg.add((player_node, n[attr], Literal(value if not isinstance(value,pd.Series) else None)))\n",
    "# Save\n",
    "kg.serialize(cwd+\"/knowledge_graph.ttl\", format=\"turtle\")"
   ]
  },
  {
   "cell_type": "code",
   "execution_count": 7,
   "metadata": {},
   "outputs": [
    {
     "data": {
      "text/plain": [
       "<Graph identifier=N9ddf40e93e7a4e879585c692bd5b57cf (<class 'rdflib.graph.Graph'>)>"
      ]
     },
     "execution_count": 7,
     "metadata": {},
     "output_type": "execute_result"
    }
   ],
   "source": [
    "from rdflib import Graph\n",
    "import oxrdflib, pyoxigraph\t\n",
    "\n",
    "# load serialized graph\n",
    "g = Graph()\n",
    "g.parse(\"./knowledge_graph.ttl\", format=\"turtle\")"
   ]
  },
  {
   "cell_type": "code",
   "execution_count": 11,
   "metadata": {},
   "outputs": [],
   "source": [
    "query = \"\"\"\n",
    "PREFIX ex: <http://example.org/>\n",
    "\n",
    "SELECT ?player ?player_name ?goals ?assists ?minutes_played ?yellow_cards ?red_cards ?market_value\n",
    "WHERE {\n",
    "    ?player a ex:player ;\n",
    "            ex:player_name ?player_name ;\n",
    "            ex:market_value_in_eur ?market_value .\n",
    "\n",
    "    OPTIONAL {\n",
    "        ?player ex:played_in_game ?game .\n",
    "        ?game ex:goals ?goals ;\n",
    "              ex:assists ?assists ;\n",
    "              ex:minutes_played ?minutes_played ;\n",
    "              ex:yellow_cards ?yellow_cards ;\n",
    "              ex:red_cards ?red_cards .\n",
    "    }\n",
    "}\n",
    "\"\"\""
   ]
  },
  {
   "cell_type": "code",
   "execution_count": 13,
   "metadata": {},
   "outputs": [],
   "source": [
    "results = g.query(query)\n"
   ]
  },
  {
   "cell_type": "code",
   "execution_count": 17,
   "metadata": {},
   "outputs": [],
   "source": [
    "data = []\n",
    "for row in results:\n",
    "    data.append({\n",
    "        'player': str(row.player),\n",
    "        'player_name': str(row.player_name),\n",
    "        'goals': int(row.goals) if row.goals else 0,\n",
    "        'assists': int(row.assists) if row.assists else 0,\n",
    "        'minutes_played': int(row.minutes_played) if row.minutes_played else 0,\n",
    "        'yellow_cards': int(row.yellow_cards) if row.yellow_cards else 0,\n",
    "        'red_cards': int(row.red_cards) if row.red_cards else 0,\n",
    "        'market_value': float(row.market_value)\n",
    "    })"
   ]
  },
  {
   "cell_type": "code",
   "execution_count": 19,
   "metadata": {},
   "outputs": [],
   "source": [
    "import pandas as pd\n",
    "df = pd.DataFrame(data)"
   ]
  },
  {
   "cell_type": "code",
   "execution_count": 23,
   "metadata": {},
   "outputs": [],
   "source": [
    "# Group by player and aggregate metrics\n",
    "aggregated_df = df.groupby(['player', 'player_name', 'market_value']).agg({\n",
    "    'goals': 'sum',\n",
    "    'assists': 'sum',\n",
    "    'minutes_played': 'sum',\n",
    "    'yellow_cards': 'sum',\n",
    "    'red_cards': 'sum'\n",
    "}).reset_index()"
   ]
  },
  {
   "cell_type": "code",
   "execution_count": 24,
   "metadata": {},
   "outputs": [],
   "source": [
    "# Define a performance score\n",
    "aggregated_df['performance_score'] = (aggregated_df['goals'] * 4 + \n",
    "                                      aggregated_df['assists'] * 3 + \n",
    "                                      aggregated_df['minutes_played'] / 90 - \n",
    "                                      aggregated_df['yellow_cards'] * 2 - \n",
    "                                      aggregated_df['red_cards'] * 5)"
   ]
  },
  {
   "cell_type": "code",
   "execution_count": 27,
   "metadata": {},
   "outputs": [
    {
     "data": {
      "text/html": [
       "<div>\n",
       "<style scoped>\n",
       "    .dataframe tbody tr th:only-of-type {\n",
       "        vertical-align: middle;\n",
       "    }\n",
       "\n",
       "    .dataframe tbody tr th {\n",
       "        vertical-align: top;\n",
       "    }\n",
       "\n",
       "    .dataframe thead th {\n",
       "        text-align: right;\n",
       "    }\n",
       "</style>\n",
       "<table border=\"1\" class=\"dataframe\">\n",
       "  <thead>\n",
       "    <tr style=\"text-align: right;\">\n",
       "      <th></th>\n",
       "      <th>player</th>\n",
       "      <th>player_name</th>\n",
       "      <th>market_value</th>\n",
       "      <th>goals</th>\n",
       "      <th>assists</th>\n",
       "      <th>minutes_played</th>\n",
       "      <th>yellow_cards</th>\n",
       "      <th>red_cards</th>\n",
       "      <th>performance_score</th>\n",
       "    </tr>\n",
       "  </thead>\n",
       "  <tbody>\n",
       "    <tr>\n",
       "      <th>0</th>\n",
       "      <td>http://example.org/100131</td>\n",
       "      <td>william carvalho</td>\n",
       "      <td>5000000.0</td>\n",
       "      <td>21</td>\n",
       "      <td>24</td>\n",
       "      <td>26407</td>\n",
       "      <td>87</td>\n",
       "      <td>2</td>\n",
       "      <td>265.411111</td>\n",
       "    </tr>\n",
       "    <tr>\n",
       "      <th>1</th>\n",
       "      <td>http://example.org/100303</td>\n",
       "      <td>rajko rotman</td>\n",
       "      <td>50000.0</td>\n",
       "      <td>2</td>\n",
       "      <td>4</td>\n",
       "      <td>6703</td>\n",
       "      <td>28</td>\n",
       "      <td>2</td>\n",
       "      <td>28.477778</td>\n",
       "    </tr>\n",
       "    <tr>\n",
       "      <th>2</th>\n",
       "      <td>http://example.org/1004301</td>\n",
       "      <td>jeremy jacquet</td>\n",
       "      <td>300000.0</td>\n",
       "      <td>0</td>\n",
       "      <td>0</td>\n",
       "      <td>15</td>\n",
       "      <td>0</td>\n",
       "      <td>0</td>\n",
       "      <td>0.166667</td>\n",
       "    </tr>\n",
       "    <tr>\n",
       "      <th>3</th>\n",
       "      <td>http://example.org/1004681</td>\n",
       "      <td>tony strata</td>\n",
       "      <td>50000.0</td>\n",
       "      <td>0</td>\n",
       "      <td>0</td>\n",
       "      <td>136</td>\n",
       "      <td>1</td>\n",
       "      <td>0</td>\n",
       "      <td>-0.488889</td>\n",
       "    </tr>\n",
       "    <tr>\n",
       "      <th>4</th>\n",
       "      <td>http://example.org/1004741</td>\n",
       "      <td>pedro</td>\n",
       "      <td>7000000.0</td>\n",
       "      <td>0</td>\n",
       "      <td>0</td>\n",
       "      <td>69</td>\n",
       "      <td>0</td>\n",
       "      <td>0</td>\n",
       "      <td>0.766667</td>\n",
       "    </tr>\n",
       "  </tbody>\n",
       "</table>\n",
       "</div>"
      ],
      "text/plain": [
       "                       player       player_name  market_value  goals  assists  \\\n",
       "0   http://example.org/100131  william carvalho     5000000.0     21       24   \n",
       "1   http://example.org/100303      rajko rotman       50000.0      2        4   \n",
       "2  http://example.org/1004301    jeremy jacquet      300000.0      0        0   \n",
       "3  http://example.org/1004681       tony strata       50000.0      0        0   \n",
       "4  http://example.org/1004741             pedro     7000000.0      0        0   \n",
       "\n",
       "   minutes_played  yellow_cards  red_cards  performance_score  \n",
       "0           26407            87          2         265.411111  \n",
       "1            6703            28          2          28.477778  \n",
       "2              15             0          0           0.166667  \n",
       "3             136             1          0          -0.488889  \n",
       "4              69             0          0           0.766667  "
      ]
     },
     "execution_count": 27,
     "metadata": {},
     "output_type": "execute_result"
    }
   ],
   "source": [
    "aggregated_df.head()"
   ]
  },
  {
   "cell_type": "code",
   "execution_count": 26,
   "metadata": {},
   "outputs": [
    {
     "data": {
      "text/plain": [
       "<Axes: title={'center': 'Performance Score vs Market Value'}, xlabel='performance_score', ylabel='market_value'>"
      ]
     },
     "execution_count": 26,
     "metadata": {},
     "output_type": "execute_result"
    },
    {
     "data": {
      "image/png": "[encoded data removed]",
      "text/plain": [
       "<Figure size 640x480 with 1 Axes>"
      ]
     },
     "metadata": {},
     "output_type": "display_data"
    }
   ],
   "source": [
    "aggregated_df.plot(kind='scatter', x='performance_score', y='market_value', title='Performance Score vs Market Value')\n"
   ]
  },
  {
   "cell_type": "code",
   "execution_count": null,
   "metadata": {},
   "outputs": [],
   "source": []
  }
 ],
 "metadata": {
  "kernelspec": {
   "display_name": "base",
   "language": "python",
   "name": "python3"
  },
  "language_info": {
   "codemirror_mode": {
    "name": "ipython",
    "version": 3
   },
   "file_extension": ".py",
   "mimetype": "text/x-python",
   "name": "python",
   "nbconvert_exporter": "python",
   "pygments_lexer": "ipython3",
   "version": "3.11.5"
  }
 },
 "nbformat": 4,
 "nbformat_minor": 2
}
