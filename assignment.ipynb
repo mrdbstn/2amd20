{
 "cells": [
  {
   "cell_type": "markdown",
   "metadata": {},
   "source": [
    "# Deliverable 1\n",
    "### Research Question\n",
    "Based on performance metrics, are some football players overvalued?\n",
    "\n",
    "Hypothesis:\n",
    "- Players with higher goal-scoring rates have higher valuations, and those who are valuations far exceeding the indication given by the correlation are overvalued.\n",
    "\n",
    "Performance metrics available:\n",
    "- Goals scored per game\n",
    "- Assists per game\n",
    "- Minutes played\n",
    "- Matches starting eleven\n",
    "- Number of matches team captain\n",
    "- Clean sheets (for goalkeepers) (!!We can leave goalkeepers out, since their value evaluation metrics do not correspond to those of other player positions)\n",
    "- Age \n",
    "- Position (except goalkeeper since those have no goal and little to no assists)\n",
    "- Foot\n",
    "- Height\n",
    "\n",
    "Required datasets:\n",
    "- players.csv (to combine player-ids to actual names, birthcountry(?), age, position, foot, height, market value, highest market value)\n",
    "- game_lineups.csv (to get whether the player was starting and if he was team captain (maybe redundant))\n",
    "- appearances.csv (for each player appearance we get goals, assists, minutes_played)\n",
    "- clubs.csv (to combine club-id to actual club names) (needed?)"
   ]
  },
  {
   "cell_type": "markdown",
   "metadata": {},
   "source": [
    "# Deliverable 2\n",
    "\n",
    "Import data"
   ]
  },
  {
   "cell_type": "code",
   "execution_count": 1,
   "metadata": {},
   "outputs": [],
   "source": [
    "# Import packages\n",
    "import pandas as pd, os, sys\n",
    "\n",
    "# Load datasets\n",
    "cwd = '.'\n",
    "players = pd.read_csv(cwd+'/archive/players.csv')\n",
    "lineups = pd.read_csv(cwd+'/archive/game_lineups.csv')\n",
    "appearances = pd.read_csv(cwd+'/archive/appearances.csv')\n",
    "clubs = pd.read_csv(cwd+'/archive/clubs.csv')"
   ]
  },
  {
   "cell_type": "code",
   "execution_count": 25,
   "metadata": {},
   "outputs": [],
   "source": [
    "import numpy as np"
   ]
  },
  {
   "cell_type": "markdown",
   "metadata": {},
   "source": [
    "We can combine \"lineups\" with \"appearances\", since those are match-based, and we will add the number-of-appearances-column to the \"players\" dataset.\n",
    "\n",
    "First we clean and preprocess the separate datasets by doing the following:\n",
    "\n",
    "- Look for contradictions in the datasets \"lineups\" and \"appearances\"\n",
    "\n",
    "- We join datasets on `game_id` and `player_id`"
   ]
  },
  {
   "cell_type": "code",
   "execution_count": 2,
   "metadata": {},
   "outputs": [
    {
     "name": "stdout",
     "output_type": "stream",
     "text": [
      "appearance_id             0\n",
      "game_id                   0\n",
      "player_id                 0\n",
      "player_club_id            0\n",
      "player_current_club_id    0\n",
      "date                      0\n",
      "player_name               6\n",
      "competition_id            0\n",
      "yellow_cards              0\n",
      "red_cards                 0\n",
      "goals                     0\n",
      "assists                   0\n",
      "minutes_played            0\n",
      "dtype: int64\n",
      "game_lineups_id    0\n",
      "date               0\n",
      "game_id            0\n",
      "player_id          0\n",
      "club_id            0\n",
      "player_name        0\n",
      "type               0\n",
      "position           3\n",
      "number             0\n",
      "team_captain       0\n",
      "dtype: int64\n",
      "(2191911, 10) (1578761, 13)\n",
      "<class 'pandas.core.frame.DataFrame'>\n",
      "RangeIndex: 1342767 entries, 0 to 1342766\n",
      "Data columns (total 21 columns):\n",
      " #   Column                  Non-Null Count    Dtype \n",
      "---  ------                  --------------    ----- \n",
      " 0   game_lineups_id         1342767 non-null  object\n",
      " 1   date_x                  1342767 non-null  object\n",
      " 2   game_id                 1342767 non-null  int64 \n",
      " 3   player_id               1342767 non-null  int64 \n",
      " 4   club_id                 1342767 non-null  int64 \n",
      " 5   player_name_x           1342767 non-null  object\n",
      " 6   type                    1342767 non-null  object\n",
      " 7   position                1342767 non-null  object\n",
      " 8   number                  1342767 non-null  object\n",
      " 9   team_captain            1342767 non-null  int64 \n",
      " 10  appearance_id           1342767 non-null  object\n",
      " 11  player_club_id          1342767 non-null  int64 \n",
      " 12  player_current_club_id  1342767 non-null  int64 \n",
      " 13  date_y                  1342767 non-null  object\n",
      " 14  player_name_y           1342766 non-null  object\n",
      " 15  competition_id          1342767 non-null  object\n",
      " 16  yellow_cards            1342767 non-null  int64 \n",
      " 17  red_cards               1342767 non-null  int64 \n",
      " 18  goals                   1342767 non-null  int64 \n",
      " 19  assists                 1342767 non-null  int64 \n",
      " 20  minutes_played          1342767 non-null  int64 \n",
      "dtypes: int64(11), object(10)\n",
      "memory usage: 215.1+ MB\n",
      "None\n",
      "<class 'pandas.core.frame.DataFrame'>\n",
      "RangeIndex: 1342767 entries, 0 to 1342766\n",
      "Data columns (total 21 columns):\n",
      " #   Column                  Non-Null Count    Dtype \n",
      "---  ------                  --------------    ----- \n",
      " 0   game_lineups_id         1342767 non-null  object\n",
      " 1   date_x                  1342767 non-null  object\n",
      " 2   game_id                 1342767 non-null  int64 \n",
      " 3   player_id               1342767 non-null  int64 \n",
      " 4   club_id                 1342767 non-null  int64 \n",
      " 5   player_name_x           1342767 non-null  object\n",
      " 6   type                    1342767 non-null  object\n",
      " 7   position                1342767 non-null  object\n",
      " 8   number                  1342767 non-null  object\n",
      " 9   team_captain            1342767 non-null  int64 \n",
      " 10  appearance_id           1342767 non-null  object\n",
      " 11  player_club_id          1342767 non-null  int64 \n",
      " 12  player_current_club_id  1342767 non-null  int64 \n",
      " 13  date_y                  1342767 non-null  object\n",
      " 14  player_name_y           1342767 non-null  object\n",
      " 15  competition_id          1342767 non-null  object\n",
      " 16  yellow_cards            1342767 non-null  int64 \n",
      " 17  red_cards               1342767 non-null  int64 \n",
      " 18  goals                   1342767 non-null  int64 \n",
      " 19  assists                 1342767 non-null  int64 \n",
      " 20  minutes_played          1342767 non-null  int64 \n",
      "dtypes: int64(11), object(10)\n",
      "memory usage: 215.1+ MB\n",
      "None\n",
      "Number of rows with non-matching dates: 0\n",
      "Number of rows with non-matching names: 31986\n",
      "Unique contradicting names: player_name_x    640\n",
      "player_name_y    640\n",
      "dtype: int64\n"
     ]
    }
   ],
   "source": [
    "# First, we inspect the dataframe\n",
    "\n",
    "print(appearances.isna().sum())\n",
    "print(lineups.isna().sum())\n",
    "\n",
    "print(lineups.shape, appearances.shape) #(2191911, 10) (1578761, 13)\n",
    "game_stats_na = lineups.merge(appearances, how='inner', on=['player_id', 'game_id'])\n",
    "print(game_stats_na.info())\n",
    "\n",
    "game_stats_na['player_name_y'] = game_stats_na['player_name_y'].fillna(game_stats_na['player_name_x'])\n",
    "game_stats = game_stats_na\n",
    "print(game_stats.info())\n",
    "\n",
    "# Since `date` and `player_name` should also be the same for both datasets we can look for contradictions now we have resolved all null values\n",
    "\n",
    "contradicting_dates_count = (game_stats['date_x'] != game_stats['date_y']).sum()\n",
    "\n",
    "print(f\"Number of rows with non-matching dates: {contradicting_dates_count}\")\n",
    "\n",
    "contradicting_names_count = (game_stats['player_name_x'] != game_stats['player_name_y']).sum()\n",
    "\n",
    "print(f\"Number of rows with non-matching names: {contradicting_names_count}\")\n",
    "\n",
    "\n",
    "# The data contains no contradictions for the dates, however it does contain 31986 contradictions for the names\n",
    "\n",
    "contradicting_names = game_stats[game_stats['player_name_x'] != game_stats['player_name_y']]\n",
    "print(f\"Unique contradicting names: {contradicting_names[['player_name_x', 'player_name_y']].nunique()}\")\n",
    "\n",
    "# We have 640 unique names that are contradicting"
   ]
  },
  {
   "cell_type": "markdown",
   "metadata": {},
   "source": [
    "Solve contradictions by character standardization"
   ]
  },
  {
   "cell_type": "code",
   "execution_count": 3,
   "metadata": {},
   "outputs": [],
   "source": [
    "# convert to string\n",
    "players['first_name'] = players['first_name'].astype(str)\n",
    "players['last_name'] = players['last_name'].astype(str)\n",
    "players['name'] = players['name'].astype(str)"
   ]
  },
  {
   "cell_type": "code",
   "execution_count": 4,
   "metadata": {},
   "outputs": [
    {
     "name": "stdout",
     "output_type": "stream",
     "text": [
      "Number of rows with non-matching names: 8118\n",
      "player_name_x    166\n",
      "player_name_y    166\n",
      "dtype: int64\n"
     ]
    }
   ],
   "source": [
    "char_replacement = {\n",
    "    '-': ' ',\n",
    "    'ö': 'o',\n",
    "    'ó': 'o',\n",
    "    'ò': 'o',\n",
    "    'í': 'i',\n",
    "    'é': 'e',\n",
    "    'ä': 'a',\n",
    "    'ü': 'u',\n",
    "    'ß': 'ss',\n",
    "    'å': 'a',\n",
    "    'ø': 'o',\n",
    "    'ñ': 'n',\n",
    "    'ç': 'c',\n",
    "    'œ': 'oe',\n",
    "    'æ': 'ae',\n",
    "    'ė': 'e',\n",
    "    'ż': 'z',\n",
    "    'ł': 'l',\n",
    "    'č': 'c',\n",
    "    'ś': 's',\n",
    "    'ź': 'z',\n",
    "    'ñ': 'n',\n",
    "    'ã': 'a',\n",
    "    'į': 'i',\n",
    "    'š': 's',\n",
    "    'ž': 'z',\n",
    "    'đ': 'd',\n",
    "    'ć': 'c',\n",
    "    'ț': 't',\n",
    "    'ğ': 'g',\n",
    "    'ş': 's',\n",
    "    'î': 'i',\n",
    "    'ă': 'a',\n",
    "    'Ș': 'S',\n",
    "    'Ț': 'T',\n",
    "    'İ': 'I',\n",
    "    'ı': 'i',\n",
    "    'ё': 'e',\n",
    "    'й': 'i',\n",
    "    'ю': 'u',\n",
    "    'я': 'ya',\n",
    "    'ë': 'e',\n",
    "    'ș': 's',\n",
    "    'ţ': 't',\n",
    "    'ï': 'i',\n",
    "\n",
    "}\n",
    "\n",
    "def replace_special_chars(text, replacements):\n",
    "    for special_char, normal_char in replacements.items():\n",
    "        text = text.lower().replace(special_char, normal_char)\n",
    "    return text\n",
    "\n",
    "game_stats['player_name_x'] = game_stats['player_name_x'].apply(replace_special_chars, args=(char_replacement,))\n",
    "game_stats['player_name_y'] = game_stats['player_name_y'].apply(replace_special_chars, args=(char_replacement,))\n",
    "\n",
    "# Replace special characters in the first and last name columns of the players dataframe\n",
    "players['first_name'] = players['first_name'].apply(replace_special_chars, args=(char_replacement,))\n",
    "players['last_name'] = players['last_name'].apply(replace_special_chars, args=(char_replacement,))\n",
    "players['name'] = players['name'].apply(replace_special_chars, args=(char_replacement,))\n",
    "\n",
    "contradicting_names_count = (game_stats['player_name_x'] != game_stats['player_name_y']).sum()\n",
    "contradicting_names = game_stats[game_stats['player_name_x'] != game_stats['player_name_y']]\n",
    "print(f\"Number of rows with non-matching names: {contradicting_names_count}\")\n",
    "print(contradicting_names[['player_name_x', 'player_name_y']].nunique())"
   ]
  },
  {
   "cell_type": "markdown",
   "metadata": {},
   "source": [
    "After cleaning capitals and special characters we still have 166 contradictions left. After inspection we can conclude these contradictions are regarding the inclusion of middle names, no first name or no second name.\n",
    "\n",
    "Since these do not directly affect our results we have chosen to make player_name_x the leading column since it is the most inclusive."
   ]
  },
  {
   "cell_type": "code",
   "execution_count": 5,
   "metadata": {},
   "outputs": [],
   "source": [
    "game_stats_cleaned = game_stats.drop(['player_name_y', 'date_y'], axis=1).rename(columns={'player_name_x':'player_name', 'date_x':'date'})"
   ]
  },
  {
   "cell_type": "markdown",
   "metadata": {},
   "source": [
    "Looking for conflicts such as duplicate entries"
   ]
  },
  {
   "cell_type": "code",
   "execution_count": 6,
   "metadata": {},
   "outputs": [],
   "source": [
    "duplicates = appearances.duplicated(subset=['player_id', 'game_id'], keep=False)\n",
    "duplicate_entries = appearances[duplicates]\n",
    "\n",
    "# We have 0 duplicate entries\n",
    "\n",
    "appearance_counts = game_stats_cleaned.groupby('player_id')['player_id'].count().reset_index(name='number_of_appearances')\n",
    "\n",
    "result_players = pd.merge(players, appearance_counts, on='player_id', how='left')"
   ]
  },
  {
   "cell_type": "markdown",
   "metadata": {},
   "source": [
    "Since we are interested in the market value, we can remove all players for which we do not have an appearance count, because those players are not included in the metrics dataset."
   ]
  },
  {
   "cell_type": "code",
   "execution_count": 7,
   "metadata": {},
   "outputs": [],
   "source": [
    "result_players_clean = result_players.dropna(axis=0, how='any')"
   ]
  },
  {
   "cell_type": "code",
   "execution_count": 8,
   "metadata": {},
   "outputs": [
    {
     "name": "stderr",
     "output_type": "stream",
     "text": [
      "C:\\Users\\moura\\AppData\\Local\\Temp\\ipykernel_19760\\3304332291.py:2: SettingWithCopyWarning: \n",
      "A value is trying to be set on a copy of a slice from a DataFrame.\n",
      "Try using .loc[row_indexer,col_indexer] = value instead\n",
      "\n",
      "See the caveats in the documentation: https://pandas.pydata.org/pandas-docs/stable/user_guide/indexing.html#returning-a-view-versus-a-copy\n",
      "  result_players_clean['number_of_appearances'] = result_players_clean['number_of_appearances'].astype(int)\n"
     ]
    }
   ],
   "source": [
    "# Convert number of appearances to integer\n",
    "result_players_clean['number_of_appearances'] = result_players_clean['number_of_appearances'].astype(int)"
   ]
  },
  {
   "cell_type": "code",
   "execution_count": 9,
   "metadata": {},
   "outputs": [],
   "source": [
    "# Drop unnecessary columns\n",
    "result_players_clean = result_players_clean.drop(['player_code', 'city_of_birth', 'country_of_citizenship', 'agent_name', 'image_url', 'url'], axis=1)\n",
    "game_stats_cleaned = game_stats_cleaned.drop(['number'], axis=1)\n",
    "\n",
    "# Change name of column name to player_name\n",
    "result_players_clean = result_players_clean.rename(columns={'name':'player_name', 'current_club_id':'player_current_club_id'})"
   ]
  },
  {
   "cell_type": "code",
   "execution_count": 10,
   "metadata": {},
   "outputs": [],
   "source": [
    "game_stats_cleaned = game_stats_cleaned.merge(result_players_clean, on='player_id', how='inner')"
   ]
  },
  {
   "cell_type": "markdown",
   "metadata": {},
   "source": [
    "Based on a player's performance, their coach decides how much they should play. Therefore this is seen as a proxy. However, minutes played for a good club indicate better performance than minutes played for a bad club. Therefore, minutes played is normalized, or rather, multiplied, with the average player value of the respective player's club."
   ]
  },
  {
   "cell_type": "code",
   "execution_count": 11,
   "metadata": {},
   "outputs": [],
   "source": [
    "game_stats_cleaned[\"normalized_minutes_played\"] = \\\n",
    "    game_stats_cleaned.minutes_played*game_stats_cleaned.groupby(\"player_club_id\").market_value_in_eur.transform(\"mean\")"
   ]
  },
  {
   "cell_type": "markdown",
   "metadata": {},
   "source": [
    "Saving the preprocessed data"
   ]
  },
  {
   "cell_type": "code",
   "execution_count": 12,
   "metadata": {},
   "outputs": [],
   "source": [
    "os.makedirs(cwd+'/clean', exist_ok=True)\n",
    "game_stats_cleaned.to_csv(cwd+'/clean/game_stats_cleaned.csv', index=False)\n",
    "result_players_clean.to_csv(cwd+'/clean/result_players_clean.csv', index=False)"
   ]
  },
  {
   "cell_type": "code",
   "execution_count": 13,
   "metadata": {},
   "outputs": [],
   "source": [
    "# Load datasets\n",
    "import sys, pandas as pd\n",
    "cwd = '.'\n",
    "game_stats_cleaned = pd.read_csv(cwd+\"/clean/game_stats_cleaned.csv\") # index_col=0\n",
    "result_players_clean = pd.read_csv(cwd+\"/clean/result_players_clean.csv\") # index_col=0"
   ]
  },
  {
   "cell_type": "markdown",
   "metadata": {},
   "source": [
    "# Deliverable 3\n",
    "As part of the poster, we need to attempt to deliver the answer to the research question. Therefore a knowledge graph is created here."
   ]
  },
  {
   "cell_type": "code",
   "execution_count": 14,
   "metadata": {},
   "outputs": [
    {
     "data": {
      "text/plain": [
       "<Graph identifier=Na994d3a984f5415d88076aa5411ea2ae (<class 'rdflib.graph.Graph'>)>"
      ]
     },
     "execution_count": 14,
     "metadata": {},
     "output_type": "execute_result"
    }
   ],
   "source": [
    "from rdflib import Graph, URIRef, Literal, BNode, Namespace, RDF\n",
    "\n",
    "n = Namespace(URIRef(\"http://example.org/\"))\n",
    "kg = Graph()\n",
    "kg.bind(\"ex\", n)\n",
    "\n",
    "# Append player_id to knowledge graphs\n",
    "for player_id in game_stats_cleaned.player_id.unique():\n",
    "    # Create subset df\n",
    "    player_df = game_stats_cleaned[game_stats_cleaned.player_id==player_id]\n",
    "    # Append player_id to knowledge graph\n",
    "    player_node = URIRef(n + str(player_id))\n",
    "    kg.add((player_node, RDF.type, n.player))\n",
    "    # Append player name to player_id\n",
    "    player_name = player_df.player_name_x.iloc[0]\n",
    "    kg.add((player_node, n.player_name, Literal(player_name)))\n",
    "    # Append games to player_id\n",
    "    for game_id in player_df.game_id:\n",
    "        game_node = BNode()\n",
    "        kg.add((game_node, RDF.type, n.game))\n",
    "        kg.add((player_node, n.played_in_game, game_node))\n",
    "        kg.add((game_node, n.id, Literal(game_id)))\n",
    "        # Append attributes to game_id\n",
    "        for attr, value in player_df[player_df.game_id==game_id].squeeze().items():\n",
    "            kg.add((game_node, n[attr], Literal(value)))\n",
    "    # Append attributes from result_players_clean to player_id\n",
    "    for attr, value in result_players_clean[result_players_clean.player_id==player_id].squeeze().items():\n",
    "        kg.add((player_node, n[attr], Literal(value if not isinstance(value,pd.Series) else None)))\n",
    "# Save\n",
    "kg.serialize(cwd+\"/19_06_knowledge_graph.ttl\", format=\"turtle\")"
   ]
  },
  {
   "cell_type": "code",
   "execution_count": 1,
   "metadata": {},
   "outputs": [],
   "source": [
    "from rdflib import Graph\n",
    "import oxrdflib, pyoxigraph\t\n",
    "\n",
    "# load serialized graph\n",
    "g = Graph()\n",
    "g.parse(\"./19_06_knowledge_graph.ttl\", format=\"turtle\")"
   ]
  },
  {
   "cell_type": "code",
   "execution_count": 46,
   "metadata": {},
   "outputs": [
    {
     "name": "stdout",
     "output_type": "stream",
     "text": [
      "(rdflib.term.Literal('8762', datatype=rdflib.term.URIRef('http://www.w3.org/2001/XMLSchema#integer')),)\n"
     ]
    }
   ],
   "source": [
    "player_query = \"\"\"\n",
    "SELECT (COUNT(?player) AS ?playerCount)\n",
    "WHERE {\n",
    "    ?player a <http://example.org/player> .\n",
    "}\n",
    "\"\"\"\n",
    "player_count = g.query(player_query)\n",
    "for row in player_count:\n",
    "    print(row)"
   ]
  },
  {
   "cell_type": "code",
   "execution_count": 1,
   "metadata": {},
   "outputs": [
    {
     "ename": "NameError",
     "evalue": "name 'g' is not defined",
     "output_type": "error",
     "traceback": [
      "\u001b[1;31m---------------------------------------------------------------------------\u001b[0m",
      "\u001b[1;31mNameError\u001b[0m                                 Traceback (most recent call last)",
      "Cell \u001b[1;32mIn[1], line 7\u001b[0m\n\u001b[0;32m      1\u001b[0m game_query \u001b[38;5;241m=\u001b[39m \u001b[38;5;124m\"\"\"\u001b[39m\n\u001b[0;32m      2\u001b[0m \u001b[38;5;124mSELECT (COUNT(?game) AS ?gameCount)\u001b[39m\n\u001b[0;32m      3\u001b[0m \u001b[38;5;124mWHERE \u001b[39m\u001b[38;5;124m{\u001b[39m\n\u001b[0;32m      4\u001b[0m \u001b[38;5;124m    ?game a <http://example.org/game> .\u001b[39m\n\u001b[0;32m      5\u001b[0m \u001b[38;5;124m}\u001b[39m\n\u001b[0;32m      6\u001b[0m \u001b[38;5;124m\"\"\"\u001b[39m\n\u001b[1;32m----> 7\u001b[0m game_count \u001b[38;5;241m=\u001b[39m \u001b[43mg\u001b[49m\u001b[38;5;241m.\u001b[39mquery(game_query)\n\u001b[0;32m      8\u001b[0m \u001b[38;5;28;01mfor\u001b[39;00m row \u001b[38;5;129;01min\u001b[39;00m game_count:\n\u001b[0;32m      9\u001b[0m     \u001b[38;5;28mprint\u001b[39m(row)\n",
      "\u001b[1;31mNameError\u001b[0m: name 'g' is not defined"
     ]
    }
   ],
   "source": [
    "game_query = \"\"\"\n",
    "SELECT (COUNT(?game) AS ?gameCount)\n",
    "WHERE {\n",
    "    ?game a <http://example.org/game> .\n",
    "}\n",
    "\"\"\"\n",
    "game_count = g.query(game_query)\n",
    "for row in game_count:\n",
    "    print(row)"
   ]
  },
  {
   "cell_type": "code",
   "execution_count": 6,
   "metadata": {},
   "outputs": [
    {
     "data": {
      "text/plain": [
       "73"
      ]
     },
     "execution_count": 6,
     "metadata": {},
     "output_type": "execute_result"
    }
   ],
   "source": [
    "639777 // 8762"
   ]
  },
  {
   "cell_type": "code",
   "execution_count": 7,
   "metadata": {},
   "outputs": [],
   "source": [
    "query = \"\"\"\n",
    "PREFIX ex: <http://example.org/>\n",
    "\n",
    "SELECT ?player ?player_name ?goals ?assists ?normalized_minutes_played ?yellow_cards ?red_cards ?market_value\n",
    "WHERE {\n",
    "    ?player a ex:player ;\n",
    "            ex:player_name ?player_name ;\n",
    "            ex:market_value_in_eur ?market_value .\n",
    "\n",
    "    OPTIONAL {\n",
    "        ?player ex:played_in_game ?game .\n",
    "        ?game ex:goals ?goals ;\n",
    "              ex:assists ?assists ;\n",
    "              ex:normalized_minutes_played ?normalized_minutes_played ;\n",
    "              ex:yellow_cards ?yellow_cards ;\n",
    "              ex:red_cards ?red_cards .\n",
    "    }\n",
    "}\n",
    "\"\"\""
   ]
  },
  {
   "cell_type": "code",
   "execution_count": 8,
   "metadata": {},
   "outputs": [],
   "source": [
    "results = g.query(query)\n"
   ]
  },
  {
   "cell_type": "code",
   "execution_count": 29,
   "metadata": {},
   "outputs": [],
   "source": [
    "def get_goals(row):\n",
    "    if not row.goals:\n",
    "        return 0\n",
    "    \n",
    "    try:\n",
    "        return int(float(row.goals))\n",
    "    except ValueError:\n",
    "        try:\n",
    "            return int(row.goals)\n",
    "        except ValueError:\n",
    "            return row.goals.toPython()"
   ]
  },
  {
   "cell_type": "code",
   "execution_count": 33,
   "metadata": {},
   "outputs": [],
   "source": [
    "data = []\n",
    "for row in results:\n",
    "    data.append({\n",
    "        'player': str(row.player),\n",
    "        'player_name': str(row.player_name),\n",
    "        'goals': row.goals.toPython() if row.goals else 0,\n",
    "        'assists': row.assists.toPython() if row.assists else 0,\n",
    "        'normalized_minutes_played': row.normalized_minutes_played.toPython() if row.normalized_minutes_played else 0,\n",
    "        'yellow_cards': row.yellow_cards.toPython() if row.yellow_cards else 0,\n",
    "        'red_cards': row.red_cards.toPython() if row.red_cards else 0,\n",
    "        'market_value': row.market_value.toPython() if row.market_value else 0,\n",
    "    })"
   ]
  },
  {
   "cell_type": "code",
   "execution_count": 34,
   "metadata": {},
   "outputs": [],
   "source": [
    "import pandas as pd\n",
    "df = pd.DataFrame(data)"
   ]
  },
  {
   "cell_type": "code",
   "execution_count": 48,
   "metadata": {},
   "outputs": [
    {
     "data": {
      "text/plain": [
       "643653"
      ]
     },
     "execution_count": 48,
     "metadata": {},
     "output_type": "execute_result"
    }
   ],
   "source": [
    "len(df[\"player\"])"
   ]
  },
  {
   "cell_type": "code",
   "execution_count": 50,
   "metadata": {},
   "outputs": [
    {
     "data": {
      "text/plain": [
       "73.45959826523625"
      ]
     },
     "execution_count": 50,
     "metadata": {},
     "output_type": "execute_result"
    }
   ],
   "source": [
    "643653 / 8762"
   ]
  },
  {
   "cell_type": "code",
   "execution_count": 33,
   "metadata": {},
   "outputs": [
    {
     "data": {
      "text/plain": [
       "446571"
      ]
     },
     "execution_count": 33,
     "metadata": {},
     "output_type": "execute_result"
    }
   ],
   "source": [
    "len(df)"
   ]
  },
  {
   "cell_type": "code",
   "execution_count": null,
   "metadata": {},
   "outputs": [],
   "source": [
    "subjects = set(g.subjects())\n",
    "\n",
    "# Get all objects\n",
    "objects = set(g.objects())\n",
    "\n",
    "# Combine subjects and objects to get all unique nodes\n",
    "all_nodes = subjects.union(objects)\n",
    "\n",
    "# Count the total number of unique nodes\n",
    "total_nodes = len(all_nodes)\n",
    "total_nodes"
   ]
  },
  {
   "cell_type": "code",
   "execution_count": 15,
   "metadata": {},
   "outputs": [],
   "source": [
    "# Group by player and aggregate metrics\n",
    "aggregated_df = df.groupby(['player', 'player_name', 'market_value']).agg({\n",
    "    'goals': 'sum',\n",
    "    'assists': 'sum',\n",
    "    'normalized_minutes_played': 'sum',\n",
    "    'yellow_cards': 'sum',\n",
    "    'red_cards': 'sum'\n",
    "}).reset_index()"
   ]
  },
  {
   "cell_type": "code",
   "execution_count": null,
   "metadata": {},
   "outputs": [],
   "source": [
    "# Define a performance score\n",
    "aggregated_df['performance_score'] = (aggregated_df['goals'] * 4 + \n",
    "                                      aggregated_df['assists'] * 3 + \n",
    "                                      aggregated_df['minutes_played'] / 90 - \n",
    "                                      aggregated_df['yellow_cards'] * 2 - \n",
    "                                      aggregated_df['red_cards'] * 5)"
   ]
  },
  {
   "cell_type": "code",
   "execution_count": 17,
   "metadata": {},
   "outputs": [
    {
     "data": {
      "text/html": [
       "<div>\n",
       "<style scoped>\n",
       "    .dataframe tbody tr th:only-of-type {\n",
       "        vertical-align: middle;\n",
       "    }\n",
       "\n",
       "    .dataframe tbody tr th {\n",
       "        vertical-align: top;\n",
       "    }\n",
       "\n",
       "    .dataframe thead th {\n",
       "        text-align: right;\n",
       "    }\n",
       "</style>\n",
       "<table border=\"1\" class=\"dataframe\">\n",
       "  <thead>\n",
       "    <tr style=\"text-align: right;\">\n",
       "      <th></th>\n",
       "      <th>player</th>\n",
       "      <th>player_name</th>\n",
       "      <th>market_value</th>\n",
       "      <th>goals</th>\n",
       "      <th>assists</th>\n",
       "      <th>normalized_minutes_played</th>\n",
       "      <th>yellow_cards</th>\n",
       "      <th>red_cards</th>\n",
       "    </tr>\n",
       "  </thead>\n",
       "  <tbody>\n",
       "    <tr>\n",
       "      <th>0</th>\n",
       "      <td>http://example.org/217593</td>\n",
       "      <td>todor nedelev</td>\n",
       "      <td>1000000.0</td>\n",
       "      <td>2</td>\n",
       "      <td>1</td>\n",
       "      <td>278565813</td>\n",
       "      <td>1</td>\n",
       "      <td>0</td>\n",
       "    </tr>\n",
       "    <tr>\n",
       "      <th>1</th>\n",
       "      <td>http://example.org/217656</td>\n",
       "      <td>godfrey oboabona</td>\n",
       "      <td>275000.0</td>\n",
       "      <td>4</td>\n",
       "      <td>2</td>\n",
       "      <td>10517645721</td>\n",
       "      <td>24</td>\n",
       "      <td>0</td>\n",
       "    </tr>\n",
       "    <tr>\n",
       "      <th>2</th>\n",
       "      <td>http://example.org/217686</td>\n",
       "      <td>ilya pomazun</td>\n",
       "      <td>2500000.0</td>\n",
       "      <td>0</td>\n",
       "      <td>0</td>\n",
       "      <td>8942862200</td>\n",
       "      <td>11</td>\n",
       "      <td>0</td>\n",
       "    </tr>\n",
       "    <tr>\n",
       "      <th>3</th>\n",
       "      <td>http://example.org/217754</td>\n",
       "      <td>dmitri arapov</td>\n",
       "      <td>175000.0</td>\n",
       "      <td>0</td>\n",
       "      <td>0</td>\n",
       "      <td>1263401140</td>\n",
       "      <td>0</td>\n",
       "      <td>0</td>\n",
       "    </tr>\n",
       "    <tr>\n",
       "      <th>4</th>\n",
       "      <td>http://example.org/217754</td>\n",
       "      <td>dmitriy arapov</td>\n",
       "      <td>175000.0</td>\n",
       "      <td>0</td>\n",
       "      <td>0</td>\n",
       "      <td>1263401140</td>\n",
       "      <td>0</td>\n",
       "      <td>0</td>\n",
       "    </tr>\n",
       "  </tbody>\n",
       "</table>\n",
       "</div>"
      ],
      "text/plain": [
       "                      player       player_name  market_value  goals  assists  \\\n",
       "0  http://example.org/217593     todor nedelev     1000000.0      2        1   \n",
       "1  http://example.org/217656  godfrey oboabona      275000.0      4        2   \n",
       "2  http://example.org/217686      ilya pomazun     2500000.0      0        0   \n",
       "3  http://example.org/217754     dmitri arapov      175000.0      0        0   \n",
       "4  http://example.org/217754    dmitriy arapov      175000.0      0        0   \n",
       "\n",
       "   normalized_minutes_played  yellow_cards  red_cards  \n",
       "0                  278565813             1          0  \n",
       "1                10517645721            24          0  \n",
       "2                 8942862200            11          0  \n",
       "3                 1263401140             0          0  \n",
       "4                 1263401140             0          0  "
      ]
     },
     "execution_count": 17,
     "metadata": {},
     "output_type": "execute_result"
    }
   ],
   "source": [
    "aggregated_df.head()"
   ]
  },
  {
   "cell_type": "code",
   "execution_count": 20,
   "metadata": {},
   "outputs": [],
   "source": [
    "Q1_minutes = aggregated_df['normalized_minutes_played'].quantile(0.25)\n",
    "Q3_minutes = aggregated_df['normalized_minutes_played'].quantile(0.75)\n",
    "IQR_minutes = Q3_minutes - Q1_minutes\n",
    "\n",
    "Q1_market = aggregated_df['market_value'].quantile(0.25)\n",
    "Q3_market = aggregated_df['market_value'].quantile(0.75)\n",
    "IQR_market = Q3_market - Q1_market\n",
    "\n",
    "lower_bound_minutes = Q1_minutes - 1.5 * IQR_minutes\n",
    "upper_bound_minutes = Q3_minutes + 1.5 * IQR_minutes\n",
    "\n",
    "lower_bound_market = Q1_market - 1.5 * IQR_market\n",
    "upper_bound_market = Q3_market + 1.5 * IQR_market"
   ]
  },
  {
   "cell_type": "code",
   "execution_count": 21,
   "metadata": {},
   "outputs": [],
   "source": [
    "filtered_df = aggregated_df[\n",
    "    (aggregated_df['normalized_minutes_played'] >= lower_bound_minutes) & (aggregated_df['normalized_minutes_played'] <= upper_bound_minutes) &\n",
    "    (aggregated_df['market_value'] >= lower_bound_market) & (aggregated_df['market_value'] <= upper_bound_market)\n",
    "]\n"
   ]
  },
  {
   "cell_type": "code",
   "execution_count": 26,
   "metadata": {},
   "outputs": [
    {
     "name": "stderr",
     "output_type": "stream",
     "text": [
      "C:\\Users\\moura\\AppData\\Local\\Temp\\ipykernel_11148\\3167563138.py:1: SettingWithCopyWarning: \n",
      "A value is trying to be set on a copy of a slice from a DataFrame.\n",
      "Try using .loc[row_indexer,col_indexer] = value instead\n",
      "\n",
      "See the caveats in the documentation: https://pandas.pydata.org/pandas-docs/stable/user_guide/indexing.html#returning-a-view-versus-a-copy\n",
      "  filtered_df['log_normalized_minutes_played'] = np.log(filtered_df['normalized_minutes_played'])\n",
      "C:\\Users\\moura\\AppData\\Local\\Temp\\ipykernel_11148\\3167563138.py:2: SettingWithCopyWarning: \n",
      "A value is trying to be set on a copy of a slice from a DataFrame.\n",
      "Try using .loc[row_indexer,col_indexer] = value instead\n",
      "\n",
      "See the caveats in the documentation: https://pandas.pydata.org/pandas-docs/stable/user_guide/indexing.html#returning-a-view-versus-a-copy\n",
      "  filtered_df['log_market_value'] = np.log(filtered_df['market_value'])\n"
     ]
    }
   ],
   "source": [
    "filtered_df['log_normalized_minutes_played'] = np.log(filtered_df['normalized_minutes_played'])\n",
    "filtered_df['log_market_value'] = np.log(filtered_df['market_value'])"
   ]
  },
  {
   "cell_type": "code",
   "execution_count": 32,
   "metadata": {},
   "outputs": [
    {
     "data": {
      "text/plain": [
       "<Axes: title={'center': 'Minutes Played vs Market Value'}, xlabel='normalized_minutes_played', ylabel='log_market_value'>"
      ]
     },
     "execution_count": 32,
     "metadata": {},
     "output_type": "execute_result"
    },
    {
     "data": {
      "image/png": "[encoded data removed]",
      "text/plain": [
       "<Figure size 640x480 with 1 Axes>"
      ]
     },
     "metadata": {},
     "output_type": "display_data"
    }
   ],
   "source": [
    "filtered_df.plot(kind='scatter', x='normalized_minutes_played', y='log_market_value', title='Minutes Played vs Market Value')\n"
   ]
  },
  {
   "cell_type": "code",
   "execution_count": null,
   "metadata": {},
   "outputs": [],
   "source": []
  }
 ],
 "metadata": {
  "kernelspec": {
   "display_name": "base",
   "language": "python",
   "name": "python3"
  },
  "language_info": {
   "codemirror_mode": {
    "name": "ipython",
    "version": 3
   },
   "file_extension": ".py",
   "mimetype": "text/x-python",
   "name": "python",
   "nbconvert_exporter": "python",
   "pygments_lexer": "ipython3",
   "version": "3.11.5"
  }
 },
 "nbformat": 4,
 "nbformat_minor": 2
}
